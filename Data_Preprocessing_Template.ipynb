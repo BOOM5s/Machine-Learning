{
  "nbformat": 4,
  "nbformat_minor": 0,
  "metadata": {
    "colab": {
      "provenance": []
    },
    "kernelspec": {
      "name": "python3",
      "display_name": "Python 3"
    },
    "language_info": {
      "name": "python"
    }
  },
  "cells": [
    {
      "cell_type": "markdown",
      "source": [
        "Data Preprocessing Template"
      ],
      "metadata": {
        "id": "aZIo1DNdbW1s"
      }
    },
    {
      "cell_type": "markdown",
      "source": [
        " Importing he Libraries"
      ],
      "metadata": {
        "id": "I92d5kfpbgTa"
      }
    },
    {
      "cell_type": "code",
      "source": [
        "import numpy as np\n",
        "import matplotlib.pyplot as plt\n",
        "import pandas as pd"
      ],
      "metadata": {
        "id": "4wKvn6CZbmL0"
      },
      "execution_count": null,
      "outputs": []
    },
    {
      "cell_type": "markdown",
      "source": [
        "Importing the DATASET"
      ],
      "metadata": {
        "id": "Emx08j6Jby5c"
      }
    },
    {
      "cell_type": "code",
      "source": [
        "dataset = pd.read_csv('filename.csv')\n",
        "X = dataset.iloc[:, :-1].values\n",
        "y = dataset.iloc[:, -1].values"
      ],
      "metadata": {
        "id": "NCic_v1Jb3eM"
      },
      "execution_count": null,
      "outputs": []
    },
    {
      "cell_type": "markdown",
      "source": [
        "Splitting the dataset into the training and test set"
      ],
      "metadata": {
        "id": "_SDzIcLTcTST"
      }
    },
    {
      "cell_type": "code",
      "source": [
        "from sklearn.model_selection import train_test_split\n",
        "X_train, X_test, y_train, y_test = train_test_split(X, y, test_size = 0.2, random_state = 0)"
      ],
      "metadata": {
        "id": "1EvduwG9cdEK"
      },
      "execution_count": null,
      "outputs": []
    }
  ]
}